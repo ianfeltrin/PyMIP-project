{
 "cells": [
  {
   "cell_type": "markdown",
   "id": "f3e8ea60",
   "metadata": {},
   "source": [
    "## Deep Learning, usando [TensorFlow]"
   ]
  },
  {
   "cell_type": "code",
   "execution_count": 3,
   "id": "0f5968ed",
   "metadata": {},
   "outputs": [],
   "source": [
    "import tensorflow as tf\n",
    "from tensorflow import keras\n",
    "import numpy as np\n",
    "import matplotlib.pyplot as plt"
   ]
  },
  {
   "cell_type": "code",
   "execution_count": 4,
   "id": "e353e15b",
   "metadata": {},
   "outputs": [
    {
     "name": "stdout",
     "output_type": "stream",
     "text": [
      "TensorFlow versão: 2.20.0\n"
     ]
    }
   ],
   "source": [
    "print(f'TensorFlow versão: {tf.__version__}')"
   ]
  },
  {
   "cell_type": "markdown",
   "id": "f01da5a8",
   "metadata": {},
   "source": [
    "### Importando a database"
   ]
  },
  {
   "cell_type": "code",
   "execution_count": 5,
   "id": "3878c08e",
   "metadata": {},
   "outputs": [],
   "source": [
    "## Vamos primeiro carregar a apostila/database\n",
    "mnist = keras.datasets.mnist\n",
    "\n",
    "# Chamamos a função load_data()\n",
    "# Ela irá retornar duas tuplas\n",
    "# Primeiro as imagens e rótulos de treino\n",
    "# Segundo as imagens e rótulos de teste\n",
    "(train_images, train_labels), (test_images, test_labels) = mnist.load_data()"
   ]
  },
  {
   "cell_type": "code",
   "execution_count": 6,
   "id": "a045eaa3",
   "metadata": {},
   "outputs": [
    {
     "name": "stdout",
     "output_type": "stream",
     "text": [
      "\n",
      "Rótulo da primeira imagem de treino: 5\n"
     ]
    }
   ],
   "source": [
    "# Olhar a primeira imagem e seu rótulo para ter certeza.\n",
    "print(f'\\nRótulo da primeira imagem de treino: {train_labels[0]}')"
   ]
  },
  {
   "cell_type": "markdown",
   "id": "a6429baa",
   "metadata": {},
   "source": [
    "### Pré-processando"
   ]
  },
  {
   "cell_type": "code",
   "execution_count": 7,
   "id": "c2a4de35",
   "metadata": {},
   "outputs": [
    {
     "name": "stdout",
     "output_type": "stream",
     "text": [
      "Valor do pixel [0,0] da imagem 1 (Antes): 0\n",
      "Valor do pixel [0,0] da imagem 1 (Depois): 0.0000\n"
     ]
    }
   ],
   "source": [
    "# Pré-processamento\n",
    "train_images_normalized = train_images / 255.0\n",
    "test_images_normalized = test_images / 255.0\n",
    "# Dividimos as imagens que são array\n",
    "# Para conseguirmos trabalhar com números pequenos, 0 a 1\n",
    "\n",
    "#verificação\n",
    "print(f'Valor do pixel [0,0] da imagem 1 (Antes): {train_images[0,0,0]}')\n",
    "print(f'Valor do pixel [0,0] da imagem 1 (Depois): {train_images_normalized[0,0,0]:.4f}')"
   ]
  },
  {
   "cell_type": "markdown",
   "id": "18358dd4",
   "metadata": {},
   "source": [
    "### Construindo o modelo"
   ]
  },
  {
   "cell_type": "code",
   "execution_count": 8,
   "id": "29a0e08c",
   "metadata": {},
   "outputs": [
    {
     "name": "stdout",
     "output_type": "stream",
     "text": [
      "Definindo as camadas do nosso 'cérebro' digital\n",
      "\n",
      "--- Arquitetura do modelo ---\n"
     ]
    },
    {
     "name": "stderr",
     "output_type": "stream",
     "text": [
      "c:\\Users\\ianfe\\OneDrive\\Área de Trabalho\\Projeto Genese\\venv\\Lib\\site-packages\\keras\\src\\layers\\reshaping\\flatten.py:37: UserWarning: Do not pass an `input_shape`/`input_dim` argument to a layer. When using Sequential models, prefer using an `Input(shape)` object as the first layer in the model instead.\n",
      "  super().__init__(**kwargs)\n"
     ]
    },
    {
     "data": {
      "text/html": [
       "<pre style=\"white-space:pre;overflow-x:auto;line-height:normal;font-family:Menlo,'DejaVu Sans Mono',consolas,'Courier New',monospace\"><span style=\"font-weight: bold\">Model: \"sequential\"</span>\n",
       "</pre>\n"
      ],
      "text/plain": [
       "\u001b[1mModel: \"sequential\"\u001b[0m\n"
      ]
     },
     "metadata": {},
     "output_type": "display_data"
    },
    {
     "data": {
      "text/html": [
       "<pre style=\"white-space:pre;overflow-x:auto;line-height:normal;font-family:Menlo,'DejaVu Sans Mono',consolas,'Courier New',monospace\">┏━━━━━━━━━━━━━━━━━━━━━━━━━━━━━━━━━┳━━━━━━━━━━━━━━━━━━━━━━━━┳━━━━━━━━━━━━━━━┓\n",
       "┃<span style=\"font-weight: bold\"> Layer (type)                    </span>┃<span style=\"font-weight: bold\"> Output Shape           </span>┃<span style=\"font-weight: bold\">       Param # </span>┃\n",
       "┡━━━━━━━━━━━━━━━━━━━━━━━━━━━━━━━━━╇━━━━━━━━━━━━━━━━━━━━━━━━╇━━━━━━━━━━━━━━━┩\n",
       "│ flatten (<span style=\"color: #0087ff; text-decoration-color: #0087ff\">Flatten</span>)               │ (<span style=\"color: #00d7ff; text-decoration-color: #00d7ff\">None</span>, <span style=\"color: #00af00; text-decoration-color: #00af00\">784</span>)            │             <span style=\"color: #00af00; text-decoration-color: #00af00\">0</span> │\n",
       "├─────────────────────────────────┼────────────────────────┼───────────────┤\n",
       "│ dense (<span style=\"color: #0087ff; text-decoration-color: #0087ff\">Dense</span>)                   │ (<span style=\"color: #00d7ff; text-decoration-color: #00d7ff\">None</span>, <span style=\"color: #00af00; text-decoration-color: #00af00\">128</span>)            │       <span style=\"color: #00af00; text-decoration-color: #00af00\">100,480</span> │\n",
       "├─────────────────────────────────┼────────────────────────┼───────────────┤\n",
       "│ dense_1 (<span style=\"color: #0087ff; text-decoration-color: #0087ff\">Dense</span>)                 │ (<span style=\"color: #00d7ff; text-decoration-color: #00d7ff\">None</span>, <span style=\"color: #00af00; text-decoration-color: #00af00\">10</span>)             │         <span style=\"color: #00af00; text-decoration-color: #00af00\">1,290</span> │\n",
       "└─────────────────────────────────┴────────────────────────┴───────────────┘\n",
       "</pre>\n"
      ],
      "text/plain": [
       "┏━━━━━━━━━━━━━━━━━━━━━━━━━━━━━━━━━┳━━━━━━━━━━━━━━━━━━━━━━━━┳━━━━━━━━━━━━━━━┓\n",
       "┃\u001b[1m \u001b[0m\u001b[1mLayer (type)                   \u001b[0m\u001b[1m \u001b[0m┃\u001b[1m \u001b[0m\u001b[1mOutput Shape          \u001b[0m\u001b[1m \u001b[0m┃\u001b[1m \u001b[0m\u001b[1m      Param #\u001b[0m\u001b[1m \u001b[0m┃\n",
       "┡━━━━━━━━━━━━━━━━━━━━━━━━━━━━━━━━━╇━━━━━━━━━━━━━━━━━━━━━━━━╇━━━━━━━━━━━━━━━┩\n",
       "│ flatten (\u001b[38;5;33mFlatten\u001b[0m)               │ (\u001b[38;5;45mNone\u001b[0m, \u001b[38;5;34m784\u001b[0m)            │             \u001b[38;5;34m0\u001b[0m │\n",
       "├─────────────────────────────────┼────────────────────────┼───────────────┤\n",
       "│ dense (\u001b[38;5;33mDense\u001b[0m)                   │ (\u001b[38;5;45mNone\u001b[0m, \u001b[38;5;34m128\u001b[0m)            │       \u001b[38;5;34m100,480\u001b[0m │\n",
       "├─────────────────────────────────┼────────────────────────┼───────────────┤\n",
       "│ dense_1 (\u001b[38;5;33mDense\u001b[0m)                 │ (\u001b[38;5;45mNone\u001b[0m, \u001b[38;5;34m10\u001b[0m)             │         \u001b[38;5;34m1,290\u001b[0m │\n",
       "└─────────────────────────────────┴────────────────────────┴───────────────┘\n"
      ]
     },
     "metadata": {},
     "output_type": "display_data"
    },
    {
     "data": {
      "text/html": [
       "<pre style=\"white-space:pre;overflow-x:auto;line-height:normal;font-family:Menlo,'DejaVu Sans Mono',consolas,'Courier New',monospace\"><span style=\"font-weight: bold\"> Total params: </span><span style=\"color: #00af00; text-decoration-color: #00af00\">101,770</span> (397.54 KB)\n",
       "</pre>\n"
      ],
      "text/plain": [
       "\u001b[1m Total params: \u001b[0m\u001b[38;5;34m101,770\u001b[0m (397.54 KB)\n"
      ]
     },
     "metadata": {},
     "output_type": "display_data"
    },
    {
     "data": {
      "text/html": [
       "<pre style=\"white-space:pre;overflow-x:auto;line-height:normal;font-family:Menlo,'DejaVu Sans Mono',consolas,'Courier New',monospace\"><span style=\"font-weight: bold\"> Trainable params: </span><span style=\"color: #00af00; text-decoration-color: #00af00\">101,770</span> (397.54 KB)\n",
       "</pre>\n"
      ],
      "text/plain": [
       "\u001b[1m Trainable params: \u001b[0m\u001b[38;5;34m101,770\u001b[0m (397.54 KB)\n"
      ]
     },
     "metadata": {},
     "output_type": "display_data"
    },
    {
     "data": {
      "text/html": [
       "<pre style=\"white-space:pre;overflow-x:auto;line-height:normal;font-family:Menlo,'DejaVu Sans Mono',consolas,'Courier New',monospace\"><span style=\"font-weight: bold\"> Non-trainable params: </span><span style=\"color: #00af00; text-decoration-color: #00af00\">0</span> (0.00 B)\n",
       "</pre>\n"
      ],
      "text/plain": [
       "\u001b[1m Non-trainable params: \u001b[0m\u001b[38;5;34m0\u001b[0m (0.00 B)\n"
      ]
     },
     "metadata": {},
     "output_type": "display_data"
    }
   ],
   "source": [
    "print(\"Definindo as camadas do nosso 'cérebro' digital\")\n",
    "\n",
    "# Criando o contreiner para empilhar as camadas\n",
    "model = keras.Sequential([\n",
    "    # Camada 1: Flatten\n",
    "    # Transforma a imagem 28x28 em um vetor de 784 pixels\n",
    "    keras.layers.Flatten(input_shape=(28, 28)),\n",
    "\n",
    "    # Camada 2: Dense\n",
    "    # 128 neuronios com a função RELU\n",
    "    keras.layers.Dense(128, activation='relu'),\n",
    "\n",
    "    # Camada 3: Dense, painel de diagnóstico\n",
    "    # 10 neurônios (um para cada dígito, 0 a 9)\n",
    "    keras.layers.Dense(10, activation='softmax')\n",
    "])\n",
    "\n",
    "print('\\n--- Arquitetura do modelo ---')\n",
    "model.summary()"
   ]
  },
  {
   "cell_type": "markdown",
   "id": "25f966b1",
   "metadata": {},
   "source": [
    "### Compilando o modelo"
   ]
  },
  {
   "cell_type": "code",
   "execution_count": 9,
   "id": "4d0b3106",
   "metadata": {},
   "outputs": [],
   "source": [
    "# Compilando o modelo\n",
    "\n",
    "model.compile(\n",
    "    optimizer='adam',\n",
    "    loss='sparse_categorical_crossentropy',\n",
    "    metrics=['accuracy']\n",
    ")"
   ]
  },
  {
   "cell_type": "markdown",
   "id": "75f05cb0",
   "metadata": {},
   "source": [
    "### Treinando o modelo"
   ]
  },
  {
   "cell_type": "code",
   "execution_count": 10,
   "id": "7207e95f",
   "metadata": {},
   "outputs": [
    {
     "name": "stdout",
     "output_type": "stream",
     "text": [
      "Epoch 1/5\n",
      "\u001b[1m1875/1875\u001b[0m \u001b[32m━━━━━━━━━━━━━━━━━━━━\u001b[0m\u001b[37m\u001b[0m \u001b[1m5s\u001b[0m 2ms/step - accuracy: 0.9266 - loss: 0.2597\n",
      "Epoch 2/5\n",
      "\u001b[1m1875/1875\u001b[0m \u001b[32m━━━━━━━━━━━━━━━━━━━━\u001b[0m\u001b[37m\u001b[0m \u001b[1m4s\u001b[0m 2ms/step - accuracy: 0.9660 - loss: 0.1138\n",
      "Epoch 3/5\n",
      "\u001b[1m1875/1875\u001b[0m \u001b[32m━━━━━━━━━━━━━━━━━━━━\u001b[0m\u001b[37m\u001b[0m \u001b[1m4s\u001b[0m 2ms/step - accuracy: 0.9769 - loss: 0.0764\n",
      "Epoch 4/5\n",
      "\u001b[1m1875/1875\u001b[0m \u001b[32m━━━━━━━━━━━━━━━━━━━━\u001b[0m\u001b[37m\u001b[0m \u001b[1m4s\u001b[0m 2ms/step - accuracy: 0.9823 - loss: 0.0581\n",
      "Epoch 5/5\n",
      "\u001b[1m1875/1875\u001b[0m \u001b[32m━━━━━━━━━━━━━━━━━━━━\u001b[0m\u001b[37m\u001b[0m \u001b[1m4s\u001b[0m 2ms/step - accuracy: 0.9868 - loss: 0.0444\n"
     ]
    }
   ],
   "source": [
    "history = model.fit(train_images_normalized, train_labels, epochs=5)"
   ]
  },
  {
   "cell_type": "markdown",
   "id": "5b79d95b",
   "metadata": {},
   "source": [
    "### PROVA FINAL"
   ]
  },
  {
   "cell_type": "code",
   "execution_count": 11,
   "id": "38d1bc9c",
   "metadata": {},
   "outputs": [
    {
     "name": "stdout",
     "output_type": "stream",
     "text": [
      "313/313 - 1s - 2ms/step - accuracy: 0.9764 - loss: 0.0785\n",
      "accuracy: 97.64\n",
      "loss: 0.0785\n"
     ]
    }
   ],
   "source": [
    "# Prova final\n",
    "test_loss, test_acc = model.evaluate(test_images_normalized, test_labels, verbose=2)\n",
    "print(f\"accuracy: {test_acc * 100:.2f}\")\n",
    "print(f\"loss: {test_loss:.4f}\")"
   ]
  },
  {
   "cell_type": "code",
   "execution_count": null,
   "id": "0d8d6736",
   "metadata": {},
   "outputs": [
    {
     "name": "stdout",
     "output_type": "stream",
     "text": [
      "Epoch 1/20\n",
      "\u001b[1m1500/1500\u001b[0m \u001b[32m━━━━━━━━━━━━━━━━━━━━\u001b[0m\u001b[37m\u001b[0m \u001b[1m5s\u001b[0m 3ms/step - accuracy: 0.9204 - loss: 0.2813 - val_accuracy: 0.9567 - val_loss: 0.1501\n",
      "Epoch 2/20\n",
      "\u001b[1m1500/1500\u001b[0m \u001b[32m━━━━━━━━━━━━━━━━━━━━\u001b[0m\u001b[37m\u001b[0m \u001b[1m4s\u001b[0m 3ms/step - accuracy: 0.9628 - loss: 0.1273 - val_accuracy: 0.9668 - val_loss: 0.1128\n",
      "Epoch 3/20\n",
      "\u001b[1m1500/1500\u001b[0m \u001b[32m━━━━━━━━━━━━━━━━━━━━\u001b[0m\u001b[37m\u001b[0m \u001b[1m4s\u001b[0m 3ms/step - accuracy: 0.9745 - loss: 0.0864 - val_accuracy: 0.9668 - val_loss: 0.1096\n",
      "Epoch 4/20\n",
      "\u001b[1m1500/1500\u001b[0m \u001b[32m━━━━━━━━━━━━━━━━━━━━\u001b[0m\u001b[37m\u001b[0m \u001b[1m4s\u001b[0m 3ms/step - accuracy: 0.9803 - loss: 0.0660 - val_accuracy: 0.9702 - val_loss: 0.0979\n",
      "Epoch 5/20\n",
      "\u001b[1m1500/1500\u001b[0m \u001b[32m━━━━━━━━━━━━━━━━━━━━\u001b[0m\u001b[37m\u001b[0m \u001b[1m4s\u001b[0m 3ms/step - accuracy: 0.9853 - loss: 0.0492 - val_accuracy: 0.9719 - val_loss: 0.1006\n",
      "Epoch 6/20\n",
      "\u001b[1m1500/1500\u001b[0m \u001b[32m━━━━━━━━━━━━━━━━━━━━\u001b[0m\u001b[37m\u001b[0m \u001b[1m4s\u001b[0m 3ms/step - accuracy: 0.9884 - loss: 0.0387 - val_accuracy: 0.9730 - val_loss: 0.0908\n",
      "Epoch 7/20\n",
      "\u001b[1m1500/1500\u001b[0m \u001b[32m━━━━━━━━━━━━━━━━━━━━\u001b[0m\u001b[37m\u001b[0m \u001b[1m4s\u001b[0m 3ms/step - accuracy: 0.9901 - loss: 0.0308 - val_accuracy: 0.9728 - val_loss: 0.0938\n",
      "Epoch 8/20\n",
      "\u001b[1m1500/1500\u001b[0m \u001b[32m━━━━━━━━━━━━━━━━━━━━\u001b[0m\u001b[37m\u001b[0m \u001b[1m4s\u001b[0m 3ms/step - accuracy: 0.9922 - loss: 0.0250 - val_accuracy: 0.9736 - val_loss: 0.0989\n",
      "Epoch 9/20\n",
      "\u001b[1m1500/1500\u001b[0m \u001b[32m━━━━━━━━━━━━━━━━━━━━\u001b[0m\u001b[37m\u001b[0m \u001b[1m4s\u001b[0m 3ms/step - accuracy: 0.9941 - loss: 0.0200 - val_accuracy: 0.9759 - val_loss: 0.0980\n",
      "Epoch 10/20\n",
      "\u001b[1m1500/1500\u001b[0m \u001b[32m━━━━━━━━━━━━━━━━━━━━\u001b[0m\u001b[37m\u001b[0m \u001b[1m4s\u001b[0m 3ms/step - accuracy: 0.9952 - loss: 0.0166 - val_accuracy: 0.9742 - val_loss: 0.1045\n",
      "Epoch 11/20\n",
      "\u001b[1m1500/1500\u001b[0m \u001b[32m━━━━━━━━━━━━━━━━━━━━\u001b[0m\u001b[37m\u001b[0m \u001b[1m4s\u001b[0m 3ms/step - accuracy: 0.9959 - loss: 0.0138 - val_accuracy: 0.9757 - val_loss: 0.0978\n",
      "Epoch 12/20\n",
      "\u001b[1m1500/1500\u001b[0m \u001b[32m━━━━━━━━━━━━━━━━━━━━\u001b[0m\u001b[37m\u001b[0m \u001b[1m4s\u001b[0m 2ms/step - accuracy: 0.9961 - loss: 0.0121 - val_accuracy: 0.9754 - val_loss: 0.1131\n",
      "Epoch 13/20\n",
      "\u001b[1m1500/1500\u001b[0m \u001b[32m━━━━━━━━━━━━━━━━━━━━\u001b[0m\u001b[37m\u001b[0m \u001b[1m4s\u001b[0m 3ms/step - accuracy: 0.9972 - loss: 0.0094 - val_accuracy: 0.9737 - val_loss: 0.1167\n",
      "Epoch 14/20\n",
      "\u001b[1m1500/1500\u001b[0m \u001b[32m━━━━━━━━━━━━━━━━━━━━\u001b[0m\u001b[37m\u001b[0m \u001b[1m4s\u001b[0m 2ms/step - accuracy: 0.9978 - loss: 0.0079 - val_accuracy: 0.9754 - val_loss: 0.1174\n",
      "Epoch 15/20\n",
      "\u001b[1m1500/1500\u001b[0m \u001b[32m━━━━━━━━━━━━━━━━━━━━\u001b[0m\u001b[37m\u001b[0m \u001b[1m4s\u001b[0m 3ms/step - accuracy: 0.9972 - loss: 0.0092 - val_accuracy: 0.9738 - val_loss: 0.1164\n",
      "Epoch 16/20\n",
      "\u001b[1m1500/1500\u001b[0m \u001b[32m━━━━━━━━━━━━━━━━━━━━\u001b[0m\u001b[37m\u001b[0m \u001b[1m4s\u001b[0m 3ms/step - accuracy: 0.9983 - loss: 0.0058 - val_accuracy: 0.9730 - val_loss: 0.1193\n",
      "Epoch 17/20\n",
      "\u001b[1m1500/1500\u001b[0m \u001b[32m━━━━━━━━━━━━━━━━━━━━\u001b[0m\u001b[37m\u001b[0m \u001b[1m4s\u001b[0m 3ms/step - accuracy: 0.9974 - loss: 0.0089 - val_accuracy: 0.9741 - val_loss: 0.1220\n",
      "Epoch 18/20\n",
      "\u001b[1m1500/1500\u001b[0m \u001b[32m━━━━━━━━━━━━━━━━━━━━\u001b[0m\u001b[37m\u001b[0m \u001b[1m4s\u001b[0m 3ms/step - accuracy: 0.9991 - loss: 0.0040 - val_accuracy: 0.9728 - val_loss: 0.1330\n",
      "Epoch 19/20\n",
      "\u001b[1m1500/1500\u001b[0m \u001b[32m━━━━━━━━━━━━━━━━━━━━\u001b[0m\u001b[37m\u001b[0m \u001b[1m4s\u001b[0m 3ms/step - accuracy: 0.9986 - loss: 0.0050 - val_accuracy: 0.9751 - val_loss: 0.1344\n",
      "Epoch 20/20\n",
      "\u001b[1m1500/1500\u001b[0m \u001b[32m━━━━━━━━━━━━━━━━━━━━\u001b[0m\u001b[37m\u001b[0m \u001b[1m4s\u001b[0m 3ms/step - accuracy: 0.9982 - loss: 0.0062 - val_accuracy: 0.9749 - val_loss: 0.1279\n",
      "\n",
      "Avaliando o modelo de 20 epochs no conjunto de teste...\n",
      "313/313 - 1s - 2ms/step - accuracy: 0.9777 - loss: 0.1047\n",
      "Acurácia FINAL no TREINO (última epoch): 99.82%\n",
      "Acurácia no conjunto de TESTE:           97.77%\n",
      "\n",
      "Loss FINAL no TREINO (última epoch):   0.0062\n",
      "Loss no conjunto de TESTE:             0.1047\n",
      "Overfitting Detectado! A acurácia de treino está 2.05% acima da de teste.\n"
     ]
    }
   ],
   "source": [
    "\n",
    "# 1. RE-DEFINIR a arquitetura do modelo (para começar do zero)\n",
    "model_long_train = keras.Sequential([\n",
    "    keras.layers.Flatten(input_shape=(28, 28)),\n",
    "    keras.layers.Dense(128, activation='relu'),\n",
    "    keras.layers.Dense(10, activation='softmax')\n",
    "])\n",
    "\n",
    "# 2. RE-COMPILAR o modelo\n",
    "model_long_train.compile(\n",
    "    optimizer='adam',\n",
    "    loss='sparse_categorical_crossentropy',\n",
    "    metrics=['accuracy']\n",
    ")\n",
    "\n",
    "# 3. 20 epochs\n",
    "history_long = model_long_train.fit(train_images_normalized, train_labels, epochs=20, validation_split=0.2,verbose=1)\n",
    "\n",
    "# 4. AVALIAR no conjunto de teste IMEDIATAMENTE após o treino\n",
    "print(\"\\nAvaliando o modelo de 20 epochs no conjunto de teste...\")\n",
    "test_loss_long, test_acc_long = model_long_train.evaluate(test_images_normalized, test_labels, verbose=2)\n",
    "\n",
    "print(f\"Acurácia FINAL no TREINO (última epoch): {history_long.history['accuracy'][-1] * 100:.2f}%\")\n",
    "print(f\"Acurácia no conjunto de TESTE:           {test_acc_long * 100:.2f}%\")\n",
    "print(f\"\\nLoss FINAL no TREINO (última epoch):   {history_long.history['loss'][-1]:.4f}\")\n",
    "print(f\"Loss no conjunto de TESTE:             {test_loss_long:.4f}\")\n",
    "\n",
    "# Comparamos a acurácia final do treino com a acurácia do teste\n",
    "gap_accuracy = history_long.history['accuracy'][-1] - test_acc_long\n",
    "if gap_accuracy > 0.02: # Se a diferença for maior que 2% (um valor arbitrário)\n",
    "    print(f\"Overfitting Detectado! A acurácia de treino está {gap_accuracy*100:.2f}% acima da de teste.\")\n",
    "else:\n",
    "    print(\"Parece que o overfitting ainda está sob controle.\")"
   ]
  },
  {
   "cell_type": "code",
   "execution_count": 15,
   "id": "e36efc2b",
   "metadata": {},
   "outputs": [
    {
     "data": {
      "image/png": "[encoded data removed]",
      "text/plain": [
       "<Figure size 1400x600 with 2 Axes>"
      ]
     },
     "metadata": {},
     "output_type": "display_data"
    },
    {
     "name": "stdout",
     "output_type": "stream",
     "text": [
      "\n",
      "Observe os gráficos:\n",
      "- A linha AZUL (Treino) deve continuar melhorando (Acc sobe, Loss desce).\n",
      "- A linha VERMELHA (Validação) é a que importa! O ponto onde ela para de melhorar (ou começa a piorar) indica o início do overfitting.\n"
     ]
    }
   ],
   "source": [
    "# gráfico de acurácia\n",
    "\n",
    "acc = history_long.history['accuracy']\n",
    "val_acc = history_long.history['val_accuracy']\n",
    "loss = history_long.history['loss']\n",
    "val_loss = history_long.history['val_loss']\n",
    "\n",
    "epochs_range = range(1, len(acc) + 1)\n",
    "\n",
    "# figura com dois subplots (um para acurácia, um para loss)\n",
    "plt.figure(figsize=(14, 6))\n",
    "\n",
    "# Subplot 1: Gráfico da Acurácia\n",
    "plt.subplot(1, 2, 1)\n",
    "plt.plot(epochs_range, acc, 'bo-', label='Acurácia de Treino') # Linha azul com bolinhas\n",
    "plt.plot(epochs_range, val_acc, 'ro-', label='Acurácia de Validação') # Linha vermelha com bolinhas\n",
    "plt.title('Acurácia de Treino e Validação por Epoch')\n",
    "plt.xlabel('Epochs')\n",
    "plt.ylabel('Acurácia')\n",
    "plt.legend()\n",
    "\n",
    "# Subplot 2: Gráfico da Loss\n",
    "plt.subplot(1, 2, 2)\n",
    "plt.plot(epochs_range, loss, 'bo-', label='Loss de Treino') # Linha azul com bolinhas\n",
    "plt.plot(epochs_range, val_loss, 'ro-', label='Loss de Validação') # Linha vermelha com bolinhas\n",
    "plt.title('Loss de Treino e Validação por Epoch')\n",
    "plt.xlabel('Epochs')\n",
    "plt.ylabel('Loss')\n",
    "plt.legend()\n",
    "\n",
    "plt.tight_layout()\n",
    "plt.savefig('grafico_overfitting.png')\n",
    "plt.show()\n",
    "\n",
    "# análise visual (onde as curvas se separam)\n",
    "print(\"\\nObserve os gráficos:\")\n",
    "print(\"- A linha AZUL (Treino) deve continuar melhorando (Acc sobe, Loss desce).\")\n",
    "print(\"- A linha VERMELHA (Validação) é a que importa! O ponto onde ela para de melhorar (ou começa a piorar) indica o início do overfitting.\")"
   ]
  },
  {
   "cell_type": "markdown",
   "id": "56ec79b4",
   "metadata": {},
   "source": [
    "### Fazendo predições"
   ]
  },
  {
   "cell_type": "code",
   "execution_count": 20,
   "id": "7d44e07b",
   "metadata": {},
   "outputs": [
    {
     "name": "stdout",
     "output_type": "stream",
     "text": [
      "\u001b[1m313/313\u001b[0m \u001b[32m━━━━━━━━━━━━━━━━━━━━\u001b[0m\u001b[37m\u001b[0m \u001b[1m0s\u001b[0m 1ms/step\n"
     ]
    }
   ],
   "source": [
    "# usando o modelo treinado pra fazer predições\n",
    "predictions_probabilities = model_long_train.predict(test_images_normalized)"
   ]
  },
  {
   "cell_type": "code",
   "execution_count": 21,
   "id": "1075206f",
   "metadata": {},
   "outputs": [
    {
     "name": "stdout",
     "output_type": "stream",
     "text": [
      "[0. 0. 0. 0. 0. 0. 0. 1. 0. 0.]\n"
     ]
    }
   ],
   "source": [
    "#pegando array de 10 probabilidades para a primeira imagem (índice 0)\n",
    "first_image_probs = predictions_probabilities[0]\n",
    "\n",
    "#mostra 10 probabilidades (uma para cada dígito, 0 a 9)\n",
    "print(np.round(first_image_probs, 4))"
   ]
  },
  {
   "cell_type": "code",
   "execution_count": 22,
   "id": "47248b03",
   "metadata": {},
   "outputs": [
    {
     "name": "stdout",
     "output_type": "stream",
     "text": [
      "O modelo previu que o dígito é: 7\n"
     ]
    }
   ],
   "source": [
    "# usando np.argmax pra ver qual índice teve maior acerto\n",
    "predicted_digits = np.argmax(first_image_probs)\n",
    "print(f'O modelo previu que o dígito é: {predicted_digits}')"
   ]
  },
  {
   "cell_type": "code",
   "execution_count": 23,
   "id": "1097effb",
   "metadata": {},
   "outputs": [
    {
     "name": "stdout",
     "output_type": "stream",
     "text": [
      "A resposta correta é: 7\n",
      "A maquina acertou\n"
     ]
    }
   ],
   "source": [
    "# pegando a resposta real da primeira imagem para comparação\n",
    "actual_digit = test_labels[0]\n",
    "print(f'A resposta correta é: {actual_digit}')\n",
    "if actual_digit == predicted_digits:\n",
    "    print('A maquina acertou')\n",
    "else:\n",
    "    print('a maquina errou')"
   ]
  },
  {
   "cell_type": "code",
   "execution_count": 24,
   "id": "e1c7b9cd",
   "metadata": {},
   "outputs": [
    {
     "data": {
      "image/png": "[encoded data removed]",
      "text/plain": [
       "<Figure size 600x300 with 2 Axes>"
      ]
     },
     "metadata": {},
     "output_type": "display_data"
    }
   ],
   "source": [
    "plt.figure(figsize=(6, 3))\n",
    "\n",
    "plt.subplot(1, 2, 1)\n",
    "plt.imshow(test_images[0], cmap=plt.cm.binary)\n",
    "plt.title(f\"Imagem de teste (Real: {actual_digit})\")\n",
    "plt.xticks([])\n",
    "plt.yticks([])\n",
    "\n",
    "# Mostra um gráfico de barras com as probabilidades\n",
    "plt.subplot(1, 2, 2)\n",
    "plt.bar(range(10), first_image_probs, color=\"#777777\")\n",
    "plt.ylim([0, 1])\n",
    "plt.xticks(range(10)) # Mostra os números 0 a 9 no eixo X\n",
    "plt.xlabel(\"Dígito\")\n",
    "plt.ylabel(\"Probabilidade\")\n",
    "plt.title(\"Confiança do Modelo por Dígito\")\n",
    "# Destaca a barra do dígito previsto\n",
    "plt.bar(predicted_digits, first_image_probs[predicted_digits], color='red') \n",
    "plt.tight_layout()\n",
    "plt.show()"
   ]
  },
  {
   "cell_type": "code",
   "execution_count": null,
   "id": "20c4bf1f",
   "metadata": {},
   "outputs": [],
   "source": []
  }
 ],
 "metadata": {
  "kernelspec": {
   "display_name": "venv",
   "language": "python",
   "name": "python3"
  },
  "language_info": {
   "codemirror_mode": {
    "name": "ipython",
    "version": 3
   },
   "file_extension": ".py",
   "mimetype": "text/x-python",
   "name": "python",
   "nbconvert_exporter": "python",
   "pygments_lexer": "ipython3",
   "version": "3.13.5"
  }
 },
 "nbformat": 4,
 "nbformat_minor": 5
}
