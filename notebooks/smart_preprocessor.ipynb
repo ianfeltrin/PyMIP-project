{
 "cells": [
  {
   "cell_type": "markdown",
   "id": "8e02f89c",
   "metadata": {},
   "source": [
    "# smart preprocessor"
   ]
  },
  {
   "cell_type": "code",
   "execution_count": 1,
   "id": "164a1d5f",
   "metadata": {},
   "outputs": [],
   "source": [
    "import os\n",
    "import cv2\n",
    "import numpy as np\n",
    "import matplotlib.pyplot as plt"
   ]
  },
  {
   "cell_type": "code",
   "execution_count": 2,
   "id": "f4fd42f1",
   "metadata": {},
   "outputs": [],
   "source": [
    "# Definir caminho para nossa pasta principal\n",
    "base_path = '../data/processed/noise_database'"
   ]
  },
  {
   "cell_type": "code",
   "execution_count": 3,
   "id": "c39da5c4",
   "metadata": {},
   "outputs": [],
   "source": [
    "# usei 'os.path.join' para fazer os caminhos das subpastas\n",
    "gaussian_path = os.path.join(base_path, 'gaussian')\n",
    "salt_pepper_path = os.path.join(base_path, 'salt_and_pepper')"
   ]
  },
  {
   "cell_type": "code",
   "execution_count": 4,
   "id": "8f14b7f7",
   "metadata": {},
   "outputs": [],
   "source": [
    "os.makedirs(base_path, exist_ok=True) # garante que o código não de erro se for rodado novamente\n",
    "os.makedirs(gaussian_path, exist_ok=True)\n",
    "os.makedirs(salt_pepper_path, exist_ok=True)"
   ]
  },
  {
   "cell_type": "code",
   "execution_count": 5,
   "id": "aa08bb99",
   "metadata": {},
   "outputs": [
    {
     "name": "stdout",
     "output_type": "stream",
     "text": [
      "Pastas criadas em: c:\\Users\\ianfe\\OneDrive\\Área de Trabalho\\Projeto Genese\\data\\processed\\noise_database\n"
     ]
    }
   ],
   "source": [
    "print(f'Pastas criadas em: {os.path.abspath(base_path)}')"
   ]
  },
  {
   "cell_type": "markdown",
   "id": "3a1a9127",
   "metadata": {},
   "source": [
    "RUIDO GAUSSIANO"
   ]
  },
  {
   "cell_type": "code",
   "execution_count": 6,
   "id": "3da64400",
   "metadata": {},
   "outputs": [],
   "source": [
    "image_path = '../data/raw/hand_xray.jpeg'\n",
    "image = cv2.imread(image_path, cv2.IMREAD_GRAYSCALE)"
   ]
  },
  {
   "cell_type": "code",
   "execution_count": 7,
   "id": "7301d5dc",
   "metadata": {},
   "outputs": [],
   "source": [
    "num_images_generated = 50 #Vamos criar 50 imagens \"sujas\" para salvar no \"banco de dados\" e alimentar a IA"
   ]
  },
  {
   "cell_type": "code",
   "execution_count": null,
   "id": "c49a8ebd",
   "metadata": {},
   "outputs": [
    {
     "name": "stdout",
     "output_type": "stream",
     "text": [
      "Concluido, foram adicionadas 50 imagens na pasta '../data/processed/noise_database\\gaussian'\n"
     ]
    }
   ],
   "source": [
    "#Loop da geração das imagens\n",
    "for i in range(num_images_generated):\n",
    "    #Definir padrão dos ruídos\n",
    "    mean = 0\n",
    "    std_dev = 70\n",
    "\n",
    "gaussian_noise = np.random.normal(mean, std_dev, image.shape)\n",
    "noisy_image = cv2.add(image.astype(np.float64), gaussian_noise).astype(np.uint8)\n",
    "\n",
    "#Nome da imagem\n",
    "filename = f'gaussian_{i:03d}.png'\n",
    "\n",
    "#juntando o caminho das pastas\n",
    "save_path = os.path.join(gaussian_path, filename)\n",
    "\n",
    "cv2.imwrite(save_path, noisy_image)\n",
    "\n",
    "print(f\"Concluido, foram adicionadas {num_images_generated} imagens na pasta '{gaussian_path}'\")"
   ]
  },
  {
   "cell_type": "code",
   "execution_count": null,
   "id": "ec54050a",
   "metadata": {},
   "outputs": [],
   "source": []
  }
 ],
 "metadata": {
  "kernelspec": {
   "display_name": "venv",
   "language": "python",
   "name": "python3"
  },
  "language_info": {
   "codemirror_mode": {
    "name": "ipython",
    "version": 3
   },
   "file_extension": ".py",
   "mimetype": "text/x-python",
   "name": "python",
   "nbconvert_exporter": "python",
   "pygments_lexer": "ipython3",
   "version": "3.13.5"
  }
 },
 "nbformat": 4,
 "nbformat_minor": 5
}
