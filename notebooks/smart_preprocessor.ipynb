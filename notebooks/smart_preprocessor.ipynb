{
 "cells": [
  {
   "cell_type": "markdown",
   "id": "8e02f89c",
   "metadata": {},
   "source": [
    "# smart preprocessor"
   ]
  },
  {
   "cell_type": "code",
   "execution_count": 1,
   "id": "164a1d5f",
   "metadata": {},
   "outputs": [],
   "source": [
    "import os\n",
    "import cv2\n",
    "import numpy as np\n",
    "import matplotlib.pyplot as plt"
   ]
  },
  {
   "cell_type": "code",
   "execution_count": 2,
   "id": "f4fd42f1",
   "metadata": {},
   "outputs": [],
   "source": [
    "# Definir caminho para nossa pasta principal\n",
    "base_path = '../data/processed/noise_database'"
   ]
  },
  {
   "cell_type": "code",
   "execution_count": 3,
   "id": "c39da5c4",
   "metadata": {},
   "outputs": [],
   "source": [
    "# usei 'os.path.join' para fazer os caminhos das subpastas\n",
    "gaussian_path = os.path.join(base_path, 'gaussian')\n",
    "salt_pepper_path = os.path.join(base_path, 'salt_and_pepper')"
   ]
  },
  {
   "cell_type": "code",
   "execution_count": 4,
   "id": "8f14b7f7",
   "metadata": {},
   "outputs": [],
   "source": [
    "os.makedirs(base_path, exist_ok=True) # garante que o código não de erro se for rodado novamente\n",
    "os.makedirs(gaussian_path, exist_ok=True)\n",
    "os.makedirs(salt_pepper_path, exist_ok=True)"
   ]
  },
  {
   "cell_type": "code",
   "execution_count": 5,
   "id": "aa08bb99",
   "metadata": {},
   "outputs": [
    {
     "name": "stdout",
     "output_type": "stream",
     "text": [
      "Pastas criadas em: c:\\Users\\ianfe\\OneDrive\\Área de Trabalho\\Projeto Genese\\data\\processed\\noise_database\n"
     ]
    }
   ],
   "source": [
    "print(f'Pastas criadas em: {os.path.abspath(base_path)}')"
   ]
  },
  {
   "cell_type": "markdown",
   "id": "3a1a9127",
   "metadata": {},
   "source": [
    "RUIDO GAUSSIANO"
   ]
  },
  {
   "cell_type": "code",
   "execution_count": 6,
   "id": "3da64400",
   "metadata": {},
   "outputs": [],
   "source": [
    "image_path = '../data/raw/hand_xray.jpeg'\n",
    "image = cv2.imread(image_path, cv2.IMREAD_GRAYSCALE)"
   ]
  },
  {
   "cell_type": "code",
   "execution_count": 7,
   "id": "7301d5dc",
   "metadata": {},
   "outputs": [],
   "source": [
    "num_images_generated = 50 #Vamos criar 50 imagens \"sujas\" para salvar no \"banco de dados\" e alimentar a IA"
   ]
  },
  {
   "cell_type": "code",
   "execution_count": 11,
   "id": "c49a8ebd",
   "metadata": {},
   "outputs": [
    {
     "name": "stdout",
     "output_type": "stream",
     "text": [
      "Concluido, foram adicionadas 50 imagens na pasta '../data/processed/noise_database\\gaussian'\n"
     ]
    }
   ],
   "source": [
    "#Loop da geração das imagens\n",
    "for i in range(num_images_generated):\n",
    "    #Definir padrão dos ruídos\n",
    "    mean = 0\n",
    "    std_dev = 70\n",
    "\n",
    "    gaussian_noise = np.random.normal(mean, std_dev, image.shape)\n",
    "    noisy_image = cv2.add(image.astype(np.float64), gaussian_noise).astype(np.uint8)\n",
    "\n",
    "    #Nome da imagem\n",
    "    filename = f'gaussian_{i:03d}.png'\n",
    "\n",
    "    #juntando o caminho das pastas\n",
    "    save_path = os.path.join(gaussian_path, filename)\n",
    "\n",
    "    cv2.imwrite(save_path, noisy_image)\n",
    "\n",
    "print(f\"Concluido, foram adicionadas {num_images_generated} imagens na pasta '{gaussian_path}'\")"
   ]
  },
  {
   "cell_type": "code",
   "execution_count": 12,
   "id": "ec54050a",
   "metadata": {},
   "outputs": [],
   "source": [
    "noise_percentage = 0.05"
   ]
  },
  {
   "cell_type": "code",
   "execution_count": 13,
   "id": "b932e5a7",
   "metadata": {},
   "outputs": [],
   "source": [
    "#LOOP\n",
    "for i in range(num_images_generated):\n",
    "    noisy_image = image.copy()\n",
    "\n",
    "    #sal e pimenta\n",
    "    num_salt = int( (noisy_image.size * noise_percentage) / 2)\n",
    "    num_pepper = int( (noisy_image.size * noise_percentage) / 2)\n",
    "\n",
    "    #sortear coordenadas\n",
    "    salt_rows = np.random.randint(0, image.shape[0] - 1, num_salt)\n",
    "    salt_cols = np.random.randint(0, image.shape[1] - 1, num_salt)\n",
    "    noisy_image[salt_rows, salt_cols] = 255 #muda todos os pixels sorteadas para branco (255)\n",
    "\n",
    "    pepper_rows = np.random.randint(0, image.shape[0] - 1, num_pepper)\n",
    "    pepper_cols = np.random.randint(0, image.shape[1] - 1, num_pepper)\n",
    "    noisy_image[pepper_rows, pepper_cols] = 0\n",
    "\n",
    "    filename = f\"salt_pepper_{i:03d}.png\"\n",
    "    save_path = os.path.join(salt_pepper_path, filename)\n",
    "    cv2.imwrite(save_path, noisy_image)\n"
   ]
  },
  {
   "cell_type": "code",
   "execution_count": 14,
   "id": "3cf1d062",
   "metadata": {},
   "outputs": [],
   "source": [
    "features = []\n",
    "labels = []"
   ]
  },
  {
   "cell_type": "code",
   "execution_count": 16,
   "id": "08d40b80",
   "metadata": {},
   "outputs": [
    {
     "name": "stdout",
     "output_type": "stream",
     "text": [
      "Formato da matriz de features: (200, 256)\n",
      "Formato do vetor labels: (200,)\n"
     ]
    }
   ],
   "source": [
    "for filename in os.listdir(gaussian_path):\n",
    "    image_path = os.path.join(gaussian_path, filename)\n",
    "    image_gaussian = cv2.imread(image_path, cv2.IMREAD_GRAYSCALE)\n",
    "\n",
    "    hist = cv2.calcHist([image_gaussian], [0], None, [256], [0, 256])\n",
    "    cv2.normalize(hist, hist, alpha=0, beta=1, norm_type=cv2.NORM_MINMAX)\n",
    "\n",
    "    features.append(hist.flatten())\n",
    "    labels.append(0)\n",
    "\n",
    "for filename in os.listdir(salt_pepper_path):\n",
    "    image_path = os.path.join(salt_pepper_path, filename)\n",
    "    image = cv2.imread(image_path, cv2.IMREAD_GRAYSCALE)\n",
    "\n",
    "    hist = cv2.calcHist([image], [0], None, [256], [0, 256])\n",
    "    cv2.normalize(hist, hist, alpha=0, beta=1, norm_type=cv2.NORM_MINMAX)\n",
    "\n",
    "    features.append(hist.flatten())\n",
    "    labels.append(1)\n",
    "\n",
    "features = np.array(features)\n",
    "labels = np.array(labels)\n",
    "\n",
    "print(f\"Formato da matriz de features: {features.shape}\")\n",
    "print(f\"Formato do vetor labels: {labels.shape}\")"
   ]
  },
  {
   "cell_type": "code",
   "execution_count": 17,
   "id": "b6b56f3e",
   "metadata": {},
   "outputs": [],
   "source": [
    "from sklearn.model_selection import train_test_split\n",
    "from sklearn.preprocessing import StandardScaler\n",
    "from sklearn.svm import SVC\n",
    "from sklearn.metrics import accuracy_score"
   ]
  },
  {
   "cell_type": "code",
   "execution_count": 18,
   "id": "b415bff3",
   "metadata": {},
   "outputs": [
    {
     "name": "stdout",
     "output_type": "stream",
     "text": [
      "O robo acertou 100.00%\n",
      "----------------------------------------\n",
      "1 \t\t| 1\n",
      "0 \t\t| 0\n",
      "0 \t\t| 0\n",
      "1 \t\t| 1\n",
      "0 \t\t| 0\n",
      "0 \t\t| 0\n",
      "1 \t\t| 1\n",
      "1 \t\t| 1\n",
      "1 \t\t| 1\n",
      "0 \t\t| 0\n"
     ]
    }
   ],
   "source": [
    "x_train, x_test, y_train, y_test = train_test_split(features, labels, test_size=0.2, random_state=42)\n",
    "\n",
    "scaler = StandardScaler()\n",
    "x_train_scaled = scaler.fit_transform(x_train)\n",
    "x_test_scaled = scaler.fit_transform(x_test)\n",
    "\n",
    "model = SVC(kernel='linear')\n",
    "model.fit(x_train_scaled, y_train)\n",
    "\n",
    "predictions = model.predict(x_test_scaled)\n",
    "\n",
    "accuracy = accuracy_score(y_test, predictions)\n",
    "\n",
    "print(f\"O robo acertou {accuracy * 100:.2f}%\")\n",
    "\n",
    "print(\"-\" * 40)\n",
    "for i in range(10):\n",
    "    print(f\"{predictions[i]} \\t\\t| {y_test[i]}\")"
   ]
  },
  {
   "cell_type": "code",
   "execution_count": null,
   "id": "61a6d4fc",
   "metadata": {},
   "outputs": [],
   "source": []
  }
 ],
 "metadata": {
  "kernelspec": {
   "display_name": "venv",
   "language": "python",
   "name": "python3"
  },
  "language_info": {
   "codemirror_mode": {
    "name": "ipython",
    "version": 3
   },
   "file_extension": ".py",
   "mimetype": "text/x-python",
   "name": "python",
   "nbconvert_exporter": "python",
   "pygments_lexer": "ipython3",
   "version": "3.13.5"
  }
 },
 "nbformat": 4,
 "nbformat_minor": 5
}
